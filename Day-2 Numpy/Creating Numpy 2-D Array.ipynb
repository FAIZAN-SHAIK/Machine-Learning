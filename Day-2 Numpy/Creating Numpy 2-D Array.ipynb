{
 "cells": [
  {
   "cell_type": "code",
   "execution_count": 11,
   "id": "34574fd3",
   "metadata": {},
   "outputs": [],
   "source": [
    "import numpy as np\n"
   ]
  },
  {
   "cell_type": "markdown",
   "id": "10ca518a",
   "metadata": {},
   "source": [
    "### by taking list of lists\n"
   ]
  },
  {
   "cell_type": "code",
   "execution_count": 14,
   "id": "94b749c1",
   "metadata": {},
   "outputs": [
    {
     "data": {
      "text/plain": [
       "array([[1, 2, 3],\n",
       "       [4, 5, 6],\n",
       "       [7, 8, 9]])"
      ]
     },
     "execution_count": 14,
     "metadata": {},
     "output_type": "execute_result"
    }
   ],
   "source": [
    "arr = np.array([[1,2,3],[4,5,6],[7,8,9]])\n",
    "arr"
   ]
  },
  {
   "cell_type": "code",
   "execution_count": null,
   "id": "6663e109",
   "metadata": {},
   "outputs": [],
   "source": []
  },
  {
   "cell_type": "markdown",
   "id": "9323548b",
   "metadata": {},
   "source": [
    "### by taking user inputs"
   ]
  },
  {
   "cell_type": "code",
   "execution_count": 3,
   "id": "8f6608c8",
   "metadata": {},
   "outputs": [
    {
     "name": "stdout",
     "output_type": "stream",
     "text": [
      "no:of rows : 2\n",
      "no:of cols : 3\n",
      "enter the value : 1\n",
      "enter the value : 2\n",
      "enter the value : 3\n",
      "enter the value : 4\n",
      "enter the value : 5\n",
      "enter the value : 6\n",
      "1 2 3 \n",
      "4 5 6 \n",
      "<class 'numpy.ndarray'>\n"
     ]
    }
   ],
   "source": [
    "row = int(input(\"no:of rows : \"))\n",
    "col = int(input(\"no:of cols : \"))\n",
    "\n",
    "matrix = []\n",
    "\n",
    "for i in range(row):\n",
    "    a=[]\n",
    "    for j in range(col):\n",
    "        val = int(input(\"enter the value : \"))\n",
    "        a.append(val)\n",
    "    matrix.append(a)\n",
    "    \n",
    "arr = np.array(matrix)\n",
    "\n",
    "for i in range(row):\n",
    "    for j in range(col):\n",
    "        print(arr[i,j],end=\" \")\n",
    "    print()\n",
    "print(type(arr))"
   ]
  },
  {
   "cell_type": "code",
   "execution_count": 4,
   "id": "af3a5205",
   "metadata": {},
   "outputs": [
    {
     "data": {
      "text/plain": [
       "array([[1, 2, 3],\n",
       "       [4, 5, 6]])"
      ]
     },
     "execution_count": 4,
     "metadata": {},
     "output_type": "execute_result"
    }
   ],
   "source": [
    "arr"
   ]
  },
  {
   "cell_type": "code",
   "execution_count": 5,
   "id": "cfc8dfd7",
   "metadata": {},
   "outputs": [
    {
     "name": "stdout",
     "output_type": "stream",
     "text": [
      "[[1 2 3]\n",
      " [4 5 6]]\n"
     ]
    }
   ],
   "source": [
    "print(arr)"
   ]
  },
  {
   "cell_type": "code",
   "execution_count": null,
   "id": "8196f8a9",
   "metadata": {},
   "outputs": [],
   "source": []
  },
  {
   "cell_type": "markdown",
   "id": "1c64888a",
   "metadata": {},
   "source": [
    "### by using seed and reshape"
   ]
  },
  {
   "cell_type": "code",
   "execution_count": 6,
   "id": "e4ec5c03",
   "metadata": {},
   "outputs": [
    {
     "data": {
      "text/plain": [
       "array([[26, 64, 81, 92, 82],\n",
       "       [56, 14, 77, 34, 72],\n",
       "       [83, 25, 93, 49, 33],\n",
       "       [46,  5, 35, 13,  2],\n",
       "       [75, 38, 85, 82, 92],\n",
       "       [25, 18, 68, 71, 44]])"
      ]
     },
     "execution_count": 6,
     "metadata": {},
     "output_type": "execute_result"
    }
   ],
   "source": [
    "import numpy as np\n",
    "\n",
    "np.random.seed(11)\n",
    "\n",
    "arr = np.random.randint(1,100,30).reshape(6,5)\n",
    "\n",
    "arr"
   ]
  },
  {
   "cell_type": "code",
   "execution_count": 7,
   "id": "4296db86",
   "metadata": {},
   "outputs": [
    {
     "data": {
      "text/plain": [
       "array([[44]])"
      ]
     },
     "execution_count": 7,
     "metadata": {},
     "output_type": "execute_result"
    }
   ],
   "source": [
    "arr[-1:,-1:]"
   ]
  },
  {
   "cell_type": "code",
   "execution_count": 8,
   "id": "f4ac5903",
   "metadata": {},
   "outputs": [
    {
     "data": {
      "text/plain": [
       "array([[93, 49],\n",
       "       [35, 13]])"
      ]
     },
     "execution_count": 8,
     "metadata": {},
     "output_type": "execute_result"
    }
   ],
   "source": [
    "arr[2:4,2:4]"
   ]
  },
  {
   "cell_type": "code",
   "execution_count": 9,
   "id": "a239b4f1",
   "metadata": {},
   "outputs": [
    {
     "data": {
      "text/plain": [
       "array([[72],\n",
       "       [33]])"
      ]
     },
     "execution_count": 9,
     "metadata": {},
     "output_type": "execute_result"
    }
   ],
   "source": [
    "arr[1:3,-1:]"
   ]
  },
  {
   "cell_type": "code",
   "execution_count": null,
   "id": "dd0a9ddd",
   "metadata": {},
   "outputs": [],
   "source": []
  }
 ],
 "metadata": {
  "kernelspec": {
   "display_name": "Python 3",
   "language": "python",
   "name": "python3"
  },
  "language_info": {
   "codemirror_mode": {
    "name": "ipython",
    "version": 3
   },
   "file_extension": ".py",
   "mimetype": "text/x-python",
   "name": "python",
   "nbconvert_exporter": "python",
   "pygments_lexer": "ipython3",
   "version": "3.8.8"
  }
 },
 "nbformat": 4,
 "nbformat_minor": 5
}
