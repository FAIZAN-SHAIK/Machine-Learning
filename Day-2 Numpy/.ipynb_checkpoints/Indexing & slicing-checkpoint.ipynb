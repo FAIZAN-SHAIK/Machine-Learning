{
 "cells": [
  {
   "cell_type": "markdown",
   "id": "aae15ccd",
   "metadata": {},
   "source": [
    "### indexing"
   ]
  },
  {
   "cell_type": "code",
   "execution_count": null,
   "id": "6604ea30",
   "metadata": {},
   "outputs": [],
   "source": [
    "import numpy as np"
   ]
  },
  {
   "cell_type": "code",
   "execution_count": 5,
   "id": "d944f89f",
   "metadata": {},
   "outputs": [
    {
     "name": "stdout",
     "output_type": "stream",
     "text": [
      "enter the size of the array5\n",
      "enter the value : 1\n",
      "enter the value : 2\n",
      "enter the value : 3\n",
      "enter the value : 4\n",
      "enter the value : 5\n",
      "1\n",
      "2\n",
      "3\n",
      "4\n",
      "5\n",
      "sum is : 15\n"
     ]
    }
   ],
   "source": [
    "a=[]\n",
    "size = int(input(\"enter the size of the array\"))\n",
    "\n",
    "for i in range(size):\n",
    "    val = int (input(\"enter the value : \"))\n",
    "    a.append(val)\n",
    "arr = np.array(a)\n",
    "\n",
    "for i in range(arr.size):\n",
    "    print(arr[i])\n",
    "    \n",
    "sum =0\n",
    "\n",
    "for i in range(arr.size):\n",
    "    sum += arr[i]\n",
    "print(\"sum is :\" ,sum)"
   ]
  },
  {
   "cell_type": "markdown",
   "id": "f72468d3",
   "metadata": {},
   "source": [
    "### slicing"
   ]
  },
  {
   "cell_type": "code",
   "execution_count": null,
   "id": "c799cbe5",
   "metadata": {},
   "outputs": [],
   "source": [
    "import numpy as np\n",
    "a=[]\n",
    "size = int(input(\"enter the size of the array\"))\n",
    "\n",
    "for i in range(size):\n",
    "    val = int (input(\"enter the value : \"))\n",
    "    a.append(val)\n",
    "arr = np.array(a)\n",
    "print(arr)\n",
    "print(arr[-2:])\n",
    "\n",
    "\n"
   ]
  },
  {
   "cell_type": "markdown",
   "id": "eb1d5dca",
   "metadata": {},
   "source": []
  }
 ],
 "metadata": {
  "kernelspec": {
   "display_name": "Python 3",
   "language": "python",
   "name": "python3"
  },
  "language_info": {
   "codemirror_mode": {
    "name": "ipython",
    "version": 3
   },
   "file_extension": ".py",
   "mimetype": "text/x-python",
   "name": "python",
   "nbconvert_exporter": "python",
   "pygments_lexer": "ipython3",
   "version": "3.8.8"
  }
 },
 "nbformat": 4,
 "nbformat_minor": 5
}
